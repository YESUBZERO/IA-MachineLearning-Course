{
 "metadata": {
  "language_info": {
   "codemirror_mode": {
    "name": "ipython",
    "version": 3
   },
   "file_extension": ".py",
   "mimetype": "text/x-python",
   "name": "python",
   "nbconvert_exporter": "python",
   "pygments_lexer": "ipython3",
   "version": "3.9.5"
  },
  "orig_nbformat": 4,
  "kernelspec": {
   "name": "python3",
   "display_name": "Python 3.9.5 64-bit"
  },
  "interpreter": {
   "hash": "f25b9300a7e40a63a672aa7d73457b3097de2e6e90e2c1fcd77b69bed0a06095"
  }
 },
 "nbformat": 4,
 "nbformat_minor": 2,
 "cells": [
  {
   "cell_type": "code",
   "execution_count": 6,
   "metadata": {},
   "outputs": [],
   "source": [
    "# Utilizando el algoritmo de Vecino mas cercano, Determinar dada las características de la flor \n",
    "# si es de la especie versicolor, virginica o setosa.\n",
    "\n",
    "# Ejemplo de Prediccion Usando KNN Iris\n",
    "from sklearn import neighbors, datasets\n",
    "from sklearn.datasets import load_iris\n",
    "data = load_iris()"
   ]
  },
  {
   "cell_type": "code",
   "execution_count": 7,
   "metadata": {},
   "outputs": [],
   "source": [
    "# Donde X = medida y Y = especie\n",
    "X = data.data\n",
    "Y = data.target\n",
    "\n",
    "# Se define el modelo KNN\n",
    "knn = neighbors.KNeighborsClassifier(n_neighbors=5, weights='uniform')"
   ]
  },
  {
   "cell_type": "code",
   "execution_count": 8,
   "metadata": {},
   "outputs": [
    {
     "output_type": "execute_result",
     "data": {
      "text/plain": [
       "KNeighborsClassifier()"
      ]
     },
     "metadata": {},
     "execution_count": 8
    }
   ],
   "source": [
    "# Entrenando el modelo KNN\n",
    "knn.fit(X, Y)"
   ]
  },
  {
   "cell_type": "code",
   "execution_count": 9,
   "metadata": {},
   "outputs": [],
   "source": [
    "# Especie [2 cm x 2cm sepal, 4 cm x 2 cm petal]\n",
    "X_pred = [2, 2, 4, 2]"
   ]
  },
  {
   "cell_type": "code",
   "execution_count": 10,
   "metadata": {},
   "outputs": [],
   "source": [
    "# Salida de la prediccion \n",
    "salida = knn.predict([X_pred])"
   ]
  },
  {
   "cell_type": "code",
   "execution_count": 11,
   "metadata": {},
   "outputs": [
    {
     "output_type": "stream",
     "name": "stdout",
     "text": [
      "Especie Preficha:  ['versicolor']\nOpciones:  ['setosa' 'versicolor' 'virginica']\nProbabilidades:  [[0.  0.8 0.2]]\n"
     ]
    }
   ],
   "source": [
    "# imprimir en Consola\n",
    "print(\"Especie Preficha: \", data.target_names[salida])\n",
    "print(\"Opciones: \", data.target_names)\n",
    "print(\"Probabilidades: \", knn.predict_proba([X_pred]))"
   ]
  }
 ]
}