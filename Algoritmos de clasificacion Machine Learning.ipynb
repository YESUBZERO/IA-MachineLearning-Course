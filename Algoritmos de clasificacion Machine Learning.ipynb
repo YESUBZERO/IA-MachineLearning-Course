{
 "metadata": {
  "language_info": {
   "codemirror_mode": {
    "name": "ipython",
    "version": 3
   },
   "file_extension": ".py",
   "mimetype": "text/x-python",
   "name": "python",
   "nbconvert_exporter": "python",
   "pygments_lexer": "ipython3",
   "version": "3.9.5"
  },
  "orig_nbformat": 4,
  "kernelspec": {
   "name": "python3",
   "display_name": "Python 3.9.5 64-bit"
  },
  "interpreter": {
   "hash": "f25b9300a7e40a63a672aa7d73457b3097de2e6e90e2c1fcd77b69bed0a06095"
  }
 },
 "nbformat": 4,
 "nbformat_minor": 2,
 "cells": [
  {
   "cell_type": "code",
   "execution_count": 7,
   "metadata": {},
   "outputs": [],
   "source": [
    "# Problema #1. Determinar dada las características de altura, peso y talla de zapato si una persona es hombre o mujer.\n",
    "from sklearn import tree"
   ]
  },
  {
   "cell_type": "code",
   "execution_count": 8,
   "metadata": {},
   "outputs": [],
   "source": [
    "# Creando la instancia del arbol de decision\n",
    "clf = tree.DecisionTreeClassifier()\n",
    "\n",
    "# [altura, peso, talla de zapato]\n",
    "X = [[181, 80, 44],[177, 70, 43], [160, 60, 38], [154, 54, 37], [166, 65, 40],\n",
    "    [190, 90, 47], [175, 64, 39],\n",
    "    [177, 70, 40], [159, 55, 37], [171, 75, 42], [181, 85, 43]]\n",
    "\n",
    "Y = ['hombre', 'hombre', 'mujer', 'mujer', 'hombre', 'hombre', 'mujer', 'mujer',\n",
    "     'mujer', 'hombre', 'hombre']\n",
    "\n",
    "# Pasando datos X y Y al arbol de decision\n",
    "clf = clf.fit(X, Y)"
   ]
  },
  {
   "cell_type": "code",
   "execution_count": 15,
   "metadata": {},
   "outputs": [
    {
     "output_type": "stream",
     "name": "stdout",
     "text": [
      "********* Resultados de la Clasificacion del Algoritmo de Decision *********\n----------------------------------------\nDato #1 [190, 70, 43] Resultado: ['hombre']\n----------------------------------------\nDato #2 [185, 62, 37] Resultado: ['mujer']\n"
     ]
    }
   ],
   "source": [
    "print(\"********* Resultados de la Clasificacion del Algoritmo de Decision *********\")\r\n",
    "print(\"----------------------------------------\")\r\n",
    "\r\n",
    "# Se definen los datos\r\n",
    "dato1 = [190, 70, 43] # Clasificacion: Hombre\r\n",
    "prediction = clf.predict([dato1])\r\n",
    "print(\"Dato #1 \" + str(dato1) + \" Resultado: \" + str(prediction))\r\n",
    "\r\n",
    "print(\"----------------------------------------\")\r\n",
    "dato2 = [185, 62, 37] # Clasificacion: Mujer\r\n",
    "prediction = clf.predict([dato2])\r\n",
    "print(\"Dato #2 \" + str(dato2) + \" Resultado: \" + str(prediction))\r\n",
    "\r\n",
    "print(\"----------------------------------------\")\r\n",
    "dato3 = [160, 60, 38] # Clasificacion: Mujer\r\n",
    "prediction = clf.predict([dato3])\r\n",
    "print(\"Dato #3 \" + str(dato3) + \" Resultado: \" + str(prediction))"
   ]
  }
 ]
}